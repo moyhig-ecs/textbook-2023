{
 "cells": [
  {
   "attachments": {},
   "cell_type": "markdown",
   "id": "bb3e8fe2-a5df-4e18-a491-9228f14b94a6",
   "metadata": {},
   "source": [
    "# ChatGPT\n",
    "## ChatGPTをアクセスするためのアカウントを作成する\n",
    "\n",
    "手順は概ね次の通り:\n",
    "\n",
    "1. OpenAIのWebサイト (https://openai.com) をアクセスする\n",
    "1. OUMailアドレスでアカウントを作成すると、本人確認のためのメールがOUMailアカウントに届くので承認する\n",
    "1. 多要素認証のために携帯電話の番号を登録すると、ショートメッセージで確認コードが届くので認証する\n",
    "1. 生年月日を登録する\n",
    "1. APIキーを作成する (クリップボードにコピーされるのでペーストして保存しておく)"
   ]
  },
  {
   "attachments": {},
   "cell_type": "markdown",
   "id": "cd7d5d02-c6c6-4901-9522-d067d6d2fa1c",
   "metadata": {
    "tags": []
   },
   "source": [
    "### OpenAIのWebサイトをアクセスする\n",
    "\n",
    "* [OpenAI](https://openai.com/) (https://openai.com/) をアクセスする\n",
    "* \"Product\" から \"~~ChatGPT~~\" \"Overview\" を選択する。"
   ]
  },
  {
   "attachments": {},
   "cell_type": "markdown",
   "id": "077dd887-d359-4779-9ffd-9441620a275a",
   "metadata": {},
   "source": [
    "![.](images/fig-01.png)"
   ]
  },
  {
   "attachments": {},
   "cell_type": "markdown",
   "id": "32c51842-9dc2-488c-a922-ddce8aef111f",
   "metadata": {},
   "source": [
    "* 次のような画面に遷移するので \"Get started\" をクリックするとアカウントの作成画面へ遷移する"
   ]
  },
  {
   "attachments": {},
   "cell_type": "markdown",
   "id": "2fb1ee53-6fd4-4aeb-9761-021efcfbab2d",
   "metadata": {},
   "source": [
    "![02](images/fig-02.png)"
   ]
  },
  {
   "attachments": {},
   "cell_type": "markdown",
   "id": "d7c1e159-dea8-44da-92df-ad159631d155",
   "metadata": {},
   "source": [
    "### OUMailアドレスでアカウントを作成すると、本人確認のためのメールがOUMailアカウントに届くので承認する\n",
    "\n",
    "* \"Sign up\" を選択する"
   ]
  },
  {
   "attachments": {},
   "cell_type": "markdown",
   "id": "11451e96-f043-46af-828e-5ad23867b9af",
   "metadata": {},
   "source": [
    "![03](images/fig-03.png)"
   ]
  },
  {
   "attachments": {},
   "cell_type": "markdown",
   "id": "4e6d542c-e23e-42d2-a203-cb840dc3d126",
   "metadata": {},
   "source": [
    "* \"Crate your account\" と表示されるので、OUMailのアドレスと適切なパスワードを入力する。\n",
    "\n",
    "````{note}\n",
    "アカウント名で指定するメールアドレス宛に確認のメールが配信されるので、ここではOUMailのアドレスをアカウント名として登録します。\n",
    "```{warning}\n",
    "ここで入力するパスワードは、OUMailのアカウントとは連携していません。セキュリティリスクを避けるため、OUMailアカウントとは別のパスワードを登録して下さい。\n",
    "```\n",
    "````"
   ]
  },
  {
   "attachments": {},
   "cell_type": "markdown",
   "id": "9efd86c8-ee40-4ddd-90b8-e1cca6994996",
   "metadata": {},
   "source": [
    "![04](images/fig-04.png)"
   ]
  },
  {
   "attachments": {},
   "cell_type": "markdown",
   "id": "2f0199d9-556a-46c8-bfc4-a7bbedddf144",
   "metadata": {},
   "source": [
    "* 人間の手による操作であることを確認する画面が表示されるので、チェックボックスをクリックして下さい"
   ]
  },
  {
   "attachments": {},
   "cell_type": "markdown",
   "id": "73a3d356-d9e6-4a69-b2b1-314cc1ea51f5",
   "metadata": {},
   "source": [
    "![05](images/fig-05.png)"
   ]
  },
  {
   "attachments": {},
   "cell_type": "markdown",
   "id": "d7a6f5e7-78a1-406b-8f98-a68bb2c0c275",
   "metadata": {},
   "source": [
    "* OUMail宛にアカウント名でメールが着信できることを確認するメールが届くので \"Verify email address\" をクリックする"
   ]
  },
  {
   "attachments": {},
   "cell_type": "markdown",
   "id": "e0451e44-599d-450f-9a7d-f283e2e77bc1",
   "metadata": {
    "tags": []
   },
   "source": [
    "![06](images/fig-06.png)"
   ]
  },
  {
   "attachments": {},
   "cell_type": "markdown",
   "id": "cf6099a0-cfa1-4c2a-ad3e-8c53161bff4a",
   "metadata": {},
   "source": [
    "* 再度、OpenAIのログイン画面が表示されるので、OUMailアドレスと、先ほど登録したパスワードで認証を行う。"
   ]
  },
  {
   "attachments": {},
   "cell_type": "markdown",
   "id": "27651101-3aa8-42d8-842b-992b40ec638a",
   "metadata": {},
   "source": [
    "![07](images/fig-07.png)"
   ]
  },
  {
   "attachments": {},
   "cell_type": "markdown",
   "id": "5cedbecb-ce27-46a8-a5c4-290749068073",
   "metadata": {},
   "source": [
    "### 多要素認証のために携帯電話の番号を登録すると、ショートメッセージで確認コードが届くので認証する\n",
    "\n",
    "* 多要素認証のため、スマートフォンのショートメッージで認証コードの照合を行う必要がある。携帯電話の番号を \"0x0xxxxyyyy\" のような11桁の数字で入力する。"
   ]
  },
  {
   "attachments": {},
   "cell_type": "markdown",
   "id": "0a7b5187-40a3-4a93-aa3d-3bb8245a00d3",
   "metadata": {},
   "source": [
    "![08](images/fig-08.png)"
   ]
  },
  {
   "attachments": {},
   "cell_type": "markdown",
   "id": "b6df3a1f-3473-4dfd-9107-8aa57254b8b7",
   "metadata": {},
   "source": [
    "* スマートフォンが着信したショートメッセージに記載されている6桁の数字を入力する。"
   ]
  },
  {
   "attachments": {},
   "cell_type": "markdown",
   "id": "99ad9b2d-6e65-400d-91bf-ec3267c3492a",
   "metadata": {},
   "source": [
    "![09](images/fig-09.png)"
   ]
  },
  {
   "attachments": {},
   "cell_type": "markdown",
   "id": "4fe570e0-7b02-49a4-81fc-3c4b643d98b2",
   "metadata": {},
   "source": [
    "### 生年月日を登録する\n",
    "\n",
    "* 生年月日を入力する (鉛筆のアイコンをクリックして直接入力した方がよい)"
   ]
  },
  {
   "attachments": {},
   "cell_type": "markdown",
   "id": "89f423d9-afd5-4717-a661-49433e9aac10",
   "metadata": {},
   "source": [
    "![10](images/fig-10.png)"
   ]
  },
  {
   "attachments": {},
   "cell_type": "markdown",
   "id": "f4774ac2-6f75-4901-9f7f-3629fdbd0dbf",
   "metadata": {},
   "source": [
    "![11](images/fig-11.png)"
   ]
  },
  {
   "attachments": {},
   "cell_type": "markdown",
   "id": "6151d80b-67ea-4c6b-8293-9ebea8713297",
   "metadata": {},
   "source": [
    "### APIキーを作成する (クリップボードにコピーされるのでペーストして保存しておく)\n",
    "\n",
    "* 右上の ”● Personal\" というアイコンをクリックすると、ドロップダウンメニューが表示されるので \"View API keys\" を選択する"
   ]
  },
  {
   "attachments": {},
   "cell_type": "markdown",
   "id": "73b98bf7-5954-4cb7-8bb2-b0a80b1f7999",
   "metadata": {},
   "source": [
    "![12](images/fig-12.png))"
   ]
  },
  {
   "attachments": {},
   "cell_type": "markdown",
   "id": "07f2c7c0-cfb1-41a8-ba5c-d6dde10127a6",
   "metadata": {},
   "source": [
    "* 次の画面に遷移するので、\"+ Create new secret key\" をクリックする"
   ]
  },
  {
   "attachments": {},
   "cell_type": "markdown",
   "id": "416f17e9-92f8-44d9-9019-638ebe6f815c",
   "metadata": {},
   "source": [
    "![13](images/fig-13.png)"
   ]
  },
  {
   "attachments": {},
   "cell_type": "markdown",
   "id": "a590f5e3-84aa-44a1-9f08-9d57cad0a7ee",
   "metadata": {},
   "source": [
    "* \"API key generated\" と表示されるので、緑のコピーボタンをクリックする。クリップボードに \"API key\" が格納される。"
   ]
  },
  {
   "attachments": {},
   "cell_type": "markdown",
   "id": "428c8bd5-749c-4d6f-b03f-96bb237b48ae",
   "metadata": {},
   "source": [
    "![14](images/fig-14.png)"
   ]
  },
  {
   "attachments": {},
   "cell_type": "markdown",
   "id": "8ed73b04-a1f2-4ac6-916b-6f977fe5c604",
   "metadata": {},
   "source": [
    "* API key は一度しか表示されないので、忘れてしまった場合は、再度作成する。忘れてしまったキーは削除しておく"
   ]
  },
  {
   "attachments": {},
   "cell_type": "markdown",
   "id": "702e1bfd-f877-41b7-a492-be39dc01c439",
   "metadata": {},
   "source": [
    "![15](images/fig-15.png)"
   ]
  },
  {
   "attachments": {},
   "cell_type": "markdown",
   "id": "226375f6-e83b-4e5f-876a-bcf2070b12af",
   "metadata": {},
   "source": []
  },
  {
   "attachments": {},
   "cell_type": "markdown",
   "id": "01db36a3-7b5d-4aba-ae85-9c7afc7bebe9",
   "metadata": {},
   "source": []
  },
  {
   "attachments": {},
   "cell_type": "markdown",
   "id": "abee227b-8715-420b-95ed-9b89b129d353",
   "metadata": {},
   "source": []
  },
  {
   "attachments": {},
   "cell_type": "markdown",
   "id": "8b5850b1-e755-4cb7-93e6-0fda2a5fb277",
   "metadata": {},
   "source": []
  },
  {
   "attachments": {},
   "cell_type": "markdown",
   "id": "9bcf2f34-90cf-4e81-a27a-89a0fd78885e",
   "metadata": {},
   "source": []
  }
 ],
 "metadata": {
  "@webio": {
   "lastCommId": null,
   "lastKernelId": null
  },
  "kernelspec": {
   "display_name": "Python 3 (ipykernel)",
   "language": "python",
   "name": "python3"
  },
  "language_info": {
   "codemirror_mode": {
    "name": "ipython",
    "version": 3
   },
   "file_extension": ".py",
   "mimetype": "text/x-python",
   "name": "python",
   "nbconvert_exporter": "python",
   "pygments_lexer": "ipython3",
   "version": "3.8.16"
  },
  "toc": {
   "base_numbering": 1,
   "nav_menu": {},
   "number_sections": true,
   "sideBar": true,
   "skip_h1_title": false,
   "title_cell": "Table of Contents",
   "title_sidebar": "Contents",
   "toc_cell": false,
   "toc_position": {},
   "toc_section_display": true,
   "toc_window_display": false
  }
 },
 "nbformat": 4,
 "nbformat_minor": 5
}
