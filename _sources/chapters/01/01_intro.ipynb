{
 "cells": [
  {
   "cell_type": "markdown",
   "metadata": {},
   "source": [
    "# 学問への扉\n",
    "## プログラミングで遡る科学史\n",
    "\n",
    "### 授業の説明\n",
    "\n",
    "* 初回\n",
    "  * JupyterHub\n",
    "    - github pagesへのアクセスとJupyterHubへの移動\n",
    "    - OUMailによる多要素認証\n",
    "    - 簡単なセルの実行\n",
    "  * ChatGPT (OpenAI API) キーの取得\n",
    "    - アカウントの作成\n",
    "    - (本授業の組織への参加)\n",
    "  * JupyterHub + ChatGPI\n",
    "    - アプリケーションキーの登録\n",
    "    - チャットによるプログラミング\n",
    "\n",
    "\n"
   ]
  },
  {
   "cell_type": "markdown",
   "metadata": {},
   "source": [
    "上のロケットのアイコンをクリックするとJupyterHubへ遷移するので、OUMailアカウントで認証する"
   ]
  },
  {
   "cell_type": "code",
   "execution_count": 15,
   "metadata": {},
   "outputs": [
    {
     "data": {
      "text/plain": [
       "2"
      ]
     },
     "execution_count": 15,
     "metadata": {},
     "output_type": "execute_result"
    }
   ],
   "source": [
    "1+1"
   ]
  },
  {
   "cell_type": "code",
   "execution_count": null,
   "metadata": {},
   "outputs": [],
   "source": []
  }
 ],
 "metadata": {
  "kernelspec": {
   "display_name": "Python 3 (ipykernel)",
   "language": "python",
   "name": "python3"
  },
  "language_info": {
   "codemirror_mode": {
    "name": "ipython",
    "version": 3
   },
   "file_extension": ".py",
   "mimetype": "text/x-python",
   "name": "python",
   "nbconvert_exporter": "python",
   "pygments_lexer": "ipython3",
   "version": "3.9.15"
  }
 },
 "nbformat": 4,
 "nbformat_minor": 4
}
